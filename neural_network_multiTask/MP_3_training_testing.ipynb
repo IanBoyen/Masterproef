{
 "cells": [
  {
   "cell_type": "markdown",
   "id": "0c839550",
   "metadata": {},
   "source": [
    "# Training and Evaluating models:"
   ]
  },
  {
   "cell_type": "code",
   "execution_count": 6,
   "id": "598f1c08",
   "metadata": {},
   "outputs": [
    {
     "name": "stdout",
     "output_type": "stream",
     "text": [
      "CSV file saved as Wear_data.csv\n"
     ]
    }
   ],
   "source": [
    "import pandas as pd\n",
    "\n",
    "# Define Excel file path\n",
    "excel_file = \"../../Types_Cutting_Inserts.xlsx\"\n",
    "csv_file = \"Wear_data.csv\"\n",
    "insert_type_list = [\"RM121263NE-BB\", \"RM090955NE-AB\", \"RM090955NE-AC\", \"RM121279NE-CV\", \"RM121279NE-DF\", \"RM121279NE-CU\", \"SNC-44-170\", \"SNC-44-60KH04\"]\n",
    "# Read all sheets into a dictionary of DataFrames\n",
    "sheets = pd.read_excel(excel_file, sheet_name=None)\n",
    "\n",
    "# Create an empty list to store data\n",
    "data_list = []\n",
    "\n",
    "# Process each sheet\n",
    "for insert_type, df in sheets.items():\n",
    "    if insert_type in insert_type_list:\n",
    "        df = df.iloc[:, :5] \n",
    "        # Ensure column names are correct\n",
    "        df.columns = [\"Insert_Name\", \"TOP\", \"LEFT\", \"RIGHT\", \"BOTTOM\"]\n",
    "        \n",
    "        # Append to list\n",
    "        data_list.append(df)\n",
    "\n",
    "# Combine all sheets into one DataFrame\n",
    "final_df = pd.concat(data_list, ignore_index=True)\n",
    "\n",
    "# Save to CSV\n",
    "final_df.to_csv(csv_file, index=False)\n",
    "print(f\"CSV file saved as {csv_file}\")"
   ]
  },
  {
   "cell_type": "markdown",
   "id": "fcff9eb9",
   "metadata": {},
   "source": [
    "## Training"
   ]
  },
  {
   "cell_type": "code",
   "execution_count": null,
   "id": "0cc04e45",
   "metadata": {},
   "outputs": [
    {
     "ename": "",
     "evalue": "",
     "output_type": "error",
     "traceback": [
      "\u001b[1;31mThe Kernel crashed while executing code in the current cell or a previous cell. \n",
      "\u001b[1;31mPlease review the code in the cell(s) to identify a possible cause of the failure. \n",
      "\u001b[1;31mClick <a href='https://aka.ms/vscodeJupyterKernelCrash'>here</a> for more info. \n",
      "\u001b[1;31mView Jupyter <a href='command:jupyter.viewOutput'>log</a> for further details."
     ]
    }
   ],
   "source": [
    "! python train.py \\\n",
    "    --model_name resnet18 \\\n",
    "    --ckpts_path ./ckpts \\\n",
    "    --data_path ../../dataset \\\n",
    "    --csv_path Wear_data.csv \\\n",
    "    --num_folds 5 \\\n",
    "    --val_fold 0 \\\n",
    "    --batch_size 128 \\\n",
    "    --val_batch_size 128 \\\n",
    "    --num_workers 0 \\\n",
    "    --size 224 \\\n",
    "    --lr 0.05 \\\n",
    "    --momentum 0 \\\n",
    "    --weight_decay 0 \\\n",
    "    --num_epochs 10 \\\n",
    "    --wandb_entity WANDB_ENTITY \\\n",
    "    --wandb_project WANDB_PROJECT \\\n",
    "    --loss_weight_class 2500.0 \\\n",
    "    --loss_weight_reg 1.0 \\\n",
    "    --split 0.9"
   ]
  },
  {
   "cell_type": "markdown",
   "id": "c5303b99",
   "metadata": {},
   "source": [
    "# Evaluation"
   ]
  },
  {
   "cell_type": "code",
   "execution_count": 2,
   "id": "0efbc06c",
   "metadata": {},
   "outputs": [
    {
     "name": "stdout",
     "output_type": "stream",
     "text": [
      "Overall Report:\n",
      "--------------------------------------------------\n",
      "Classification Accuracy: 100.00%\n",
      "Regression Accuracy Range (within 20.0 percentage or 50µm tolerance): 70.44%\n",
      "Binary Regression Accuracy: (Threshold = 200µm): 89.70%\n",
      "False Positive Rate (Not worn-out but detected): 3.98%\n",
      "False Negative Rate (Worn-out but not detected): 6.32%\n",
      "Mean Squared Error (MSE): 500.0585\n",
      "Mean Absolute Error (MAE): 1.0870\n",
      "Total Targets: 2612\n",
      "\n",
      "Detailed Report:\n",
      "--------------------------------------------------\n",
      "Classification Report:\n",
      "                precision    recall  f1-score   support\n",
      "\n",
      "RM090955NE-AB       1.00      1.00      1.00         7\n",
      "RM090955NE-AC       1.00      1.00      1.00        14\n",
      "RM121263NE-BB       1.00      1.00      1.00        29\n",
      "RM121279NE-CU       1.00      1.00      1.00        25\n",
      "RM121279NE-CV       1.00      1.00      1.00        19\n",
      "RM121279NE-DF       1.00      1.00      1.00        23\n",
      "   SNC-44-170       1.00      1.00      1.00        19\n",
      "SNC-44-60KH04       1.00      1.00      1.00        37\n",
      "\n",
      "     accuracy                           1.00       173\n",
      "    macro avg       1.00      1.00      1.00       173\n",
      " weighted avg       1.00      1.00      1.00       173\n",
      "\n",
      "\n",
      "Regression Report Per Insert Type:\n",
      "+---------------+---------------+------------+----------------+----------------+---------+-------+-------+\n",
      "|  Insert Type  | Correct Range | Binary Acc | False Positive | False Negative |   MSE   |  MAE  | Total |\n",
      "+---------------+---------------+------------+----------------+----------------+---------+-------+-------+\n",
      "| RM121279NE-DF |    72.28%     |   89.60%   |     7.92%      |     2.48%      |  0.45   | 0.07  |  404  |\n",
      "| RM121279NE-CU |    77.93%     |   93.88%   |     6.12%      |     0.00%      |  1.42   | 0.09  |  376  |\n",
      "| RM121279NE-CV |    70.78%     |   87.66%   |     11.04%     |     1.30%      |  0.72   | 0.09  |  308  |\n",
      "| RM121263NE-BB |    75.99%     |   96.53%   |     0.00%      |     3.47%      |  10.86  | 0.28  |  404  |\n",
      "|  SNC-44-170   |    81.88%     |   92.75%   |     1.09%      |     6.16%      |  0.38   | 0.06  |  276  |\n",
      "| SNC-44-60KH04 |    52.82%     |   79.89%   |     1.69%      |     18.42%     | 586.97  | 1.71  |  532  |\n",
      "| RM090955NE-AC |    66.35%     |   90.87%   |     1.44%      |     7.69%      | 111.85  | 1.16  |  208  |\n",
      "| RM090955NE-AB |    81.73%     |   94.23%   |     0.00%      |     5.77%      | 9280.64 | 14.13 |  104  |\n",
      "+---------------+---------------+------------+----------------+----------------+---------+-------+-------+\n"
     ]
    },
    {
     "name": "stderr",
     "output_type": "stream",
     "text": [
      "\n",
      "  0%|          | 0/6 [00:00<?, ?it/s]\n",
      " 17%|█▋        | 1/6 [00:01<00:06,  1.26s/it]\n",
      " 33%|███▎      | 2/6 [00:02<00:04,  1.12s/it]\n",
      " 50%|█████     | 3/6 [00:03<00:03,  1.11s/it]\n",
      " 67%|██████▋   | 4/6 [00:04<00:02,  1.15s/it]\n",
      " 83%|████████▎ | 5/6 [00:05<00:01,  1.10s/it]\n",
      "100%|██████████| 6/6 [00:06<00:00,  1.15it/s]\n",
      "100%|██████████| 6/6 [00:06<00:00,  1.00s/it]\n"
     ]
    }
   ],
   "source": [
    "! python test.py \\\n",
    "    --model_name resnet18 \\\n",
    "    --load_ckpt ./ckpts/multiTask_lr=0.1;epoch=500;loss_weight=2500.pth \\\n",
    "    --data_path ../../dataset \\\n",
    "    --csv_path Wear_data.csv \\\n",
    "    --num_workers 0 \\\n",
    "    --val_batch_size 32 \\\n",
    "    --split 0.9"
   ]
  }
 ],
 "metadata": {
  "kernelspec": {
   "display_name": "Python 3",
   "language": "python",
   "name": "python3"
  },
  "language_info": {
   "codemirror_mode": {
    "name": "ipython",
    "version": 3
   },
   "file_extension": ".py",
   "mimetype": "text/x-python",
   "name": "python",
   "nbconvert_exporter": "python",
   "pygments_lexer": "ipython3",
   "version": "3.11.8"
  }
 },
 "nbformat": 4,
 "nbformat_minor": 5
}
